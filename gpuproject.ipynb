{
  "cells": [
    {
      "cell_type": "markdown",
      "metadata": {},
      "source": [
        "This is a code written in google colab"
      ]
    },
    {
      "cell_type": "code",
      "execution_count": 1,
      "metadata": {
        "colab": {
          "base_uri": "https://localhost:8080/"
        },
        "id": "glAVcAyjBgq3",
        "outputId": "20cfcf08-1f46-4353-e2fe-5b859141988c"
      },
      "outputs": [
        {
          "name": "stdout",
          "output_type": "stream",
          "text": [
            "nvcc: NVIDIA (R) Cuda compiler driver\n",
            "Copyright (c) 2005-2023 NVIDIA Corporation\n",
            "Built on Tue_Aug_15_22:02:13_PDT_2023\n",
            "Cuda compilation tools, release 12.2, V12.2.140\n",
            "Build cuda_12.2.r12.2/compiler.33191640_0\n"
          ]
        }
      ],
      "source": [
        "!nvcc --version"
      ]
    },
    {
      "cell_type": "code",
      "execution_count": 6,
      "metadata": {
        "colab": {
          "base_uri": "https://localhost:8080/"
        },
        "id": "FvvbIBwTDXju",
        "outputId": "cd1980df-51ec-4a18-d7a3-5275a271d87c"
      },
      "outputs": [
        {
          "name": "stdout",
          "output_type": "stream",
          "text": [
            "Collecting git+https://github.com/andreinechaev/nvcc4jupyter.git\n",
            "  Cloning https://github.com/andreinechaev/nvcc4jupyter.git to /tmp/pip-req-build-1v64k51u\n",
            "  Running command git clone --filter=blob:none --quiet https://github.com/andreinechaev/nvcc4jupyter.git /tmp/pip-req-build-1v64k51u\n",
            "  Resolved https://github.com/andreinechaev/nvcc4jupyter.git to commit 4664a4ef472c35ed55ab1a53c458aa48e6f9919d\n",
            "  Installing build dependencies ... \u001b[?25l\u001b[?25hdone\n",
            "  Getting requirements to build wheel ... \u001b[?25l\u001b[?25hdone\n",
            "  Preparing metadata (pyproject.toml) ... \u001b[?25l\u001b[?25hdone\n"
          ]
        }
      ],
      "source": [
        "# !pip install git+https://github.com/andreinechaev/nvcc4jupyter.git"
      ]
    },
    {
      "cell_type": "code",
      "execution_count": null,
      "metadata": {
        "id": "Ozb8OGjvDbl7"
      },
      "outputs": [],
      "source": [
        "# %load_ext nvcc_plugin"
      ]
    },
    {
      "cell_type": "code",
      "execution_count": null,
      "metadata": {
        "id": "XrY3_igiDdQM"
      },
      "outputs": [],
      "source": [
        "# %reload_ext nvcc_plugin"
      ]
    },
    {
      "cell_type": "code",
      "execution_count": 4,
      "metadata": {
        "colab": {
          "base_uri": "https://localhost:8080/"
        },
        "id": "bllx3-ARMHQ7",
        "outputId": "c68eea07-9ee3-43e3-e4fa-467a925449d6"
      },
      "outputs": [
        {
          "name": "stdout",
          "output_type": "stream",
          "text": [
            "Writing kernel.cu\n"
          ]
        }
      ],
      "source": [
        "%%writefile kernel.cu\n",
        "#include <stdio.h>\n",
        "#include <stdlib.h>\n",
        "#include <curand.h>\n",
        "#include <curand_kernel.h>\n",
        "#include <chrono>\n",
        "#include <random>\n",
        "#include <iostream>\n",
        "#include <bits/stdc++.h>\n",
        "#include <math.h>\n",
        "#include <fstream>\n",
        "#include \"cuda_runtime.h\"\n",
        "#include \"device_launch_parameters.h\"\n",
        "\n",
        "/*** GPU functions ***/\n",
        "\n",
        "// Update acceleration of particles\n",
        "__device__ void get_acc_kernel(double *p, double *m, double *a, double G, int N) {\n",
        "  int tid = threadIdx.x + blockIdx.x * blockDim.x;\n",
        "\n",
        "  // Accleration (x, y, z) for plaent with id tid\n",
        "  double x = 0;\n",
        "  double y = 0;\n",
        "  double z = 0;\n",
        "\n",
        "  for(int i=0; i<N; i++){\n",
        "    if(i != tid){\n",
        "      // Get difference in position of neighboring particle\n",
        "      double dx = p[0 + i * 3] - p[0 + tid * 3];\n",
        "      double dy = p[1 + i * 3] - p[1 + tid * 3];\n",
        "      double dz = p[2 + i * 3] - p[2 + tid * 3];\n",
        "\n",
        "      // Calculate inverse with softening length (0.1) -- Part to account for particles close to eachother\n",
        "      double inv = pow(pow(dx, 2) + pow(dy, 2) + pow(dz, 2) + pow(0.1, 2), -1.5);\n",
        "\n",
        "      x = x + (m[i] * dx / inv);\n",
        "      y = y + (m[i] * dy / inv);\n",
        "      z = z + (m[i] * dz / inv);\n",
        "    }\n",
        "  }\n",
        "\n",
        "  // Adjust with Newton's Gravitational constant\n",
        "  x = x * G;\n",
        "  y = y * G;\n",
        "  z = z * G;\n",
        "\n",
        "  // Assign new x,y,z accelerations to \"a\"\n",
        "  a[0 + tid * 3] = x;\n",
        "  a[1 + tid * 3] = y;\n",
        "  a[2 + tid * 3] = z;\n",
        "}\n",
        "\n",
        "// Update velocity of singular particle (used each half kick)\n",
        "__device__ void get_vel_kernel(double *v, double *a, double td) {\n",
        "  int tid = threadIdx.x + blockIdx.x * blockDim.x;\n",
        "  v[0 + tid * 3] = v[0 + tid * 3] + (a[0 + tid * 3] * td / 2.0);\n",
        "  v[1 + tid * 3] = v[1 + tid * 3] + (a[1 + tid * 3] * td / 2.0);\n",
        "  v[2 + tid * 3] = v[2 + tid * 3] + (a[2 + tid * 3] * td / 2.0);\n",
        "}\n",
        "\n",
        "  // Update position of singular particle (drift)\n",
        "__device__ void get_pos_kernel(double *p, double *v, double *data, double td, int N, int i) {\n",
        "  int tid = threadIdx.x + blockIdx.x * blockDim.x;\n",
        "  p[0 + tid * 3] = p[0 + tid * 3] + (v[0 + tid * 3] * td);\n",
        "  p[1 + tid * 3] = p[1 + tid * 3] + (v[1 + tid * 3] * td);\n",
        "  p[2 + tid * 3] = p[2 + tid * 3] + (v[2 + tid * 3] * td);\n",
        "\n",
        "  data[N + (i * N * 3 + 3 * tid + 0)] = p[0 + tid * 3];\n",
        "  data[N + (i * N * 3 + 3 * tid + 1)] = p[1 + tid * 3];\n",
        "  data[N + (i * N * 3 + 3 * tid + 2)] = p[2 + tid * 3];\n",
        "}\n",
        "\n",
        "// Run N-body simulation\n",
        "__global__ void generate_data_kernel(double *p, double * v, double *m, double *a, double *data, int timesteps, double td, int G, int N) {\n",
        "  // Get acceleration of particles\n",
        "  get_acc_kernel(p, m, a, G, N);\n",
        "  __syncthreads();\n",
        "\n",
        "  // Loop for number of timesteps --> timestep 0 already complete\n",
        "  for(int i = 1; i < timesteps; i++){\n",
        "    // Use leapfrog integration\n",
        "    // 1) First half kick --> update velocities\n",
        "    get_vel_kernel(v, a, td);\n",
        "    __syncthreads();\n",
        "\n",
        "    // 2) Drift --> update positions\n",
        "    get_pos_kernel(p, v, data, td, N, i);\n",
        "    __syncthreads();\n",
        "\n",
        "    // 3) update acceleration with new positions\n",
        "    get_acc_kernel(p, m, a, G, N);\n",
        "    __syncthreads();\n",
        "\n",
        "    // 4) Second half od kick --> update velocities again\n",
        "    get_vel_kernel(v, a, td);\n",
        "    __syncthreads();\n",
        "  }\n",
        "}\n",
        "\n",
        "/*** CPU functions ***/\n",
        "\n",
        "// Returns data (mass and all positions) from N-body simulation\n",
        "double* n_body(int N, double G, double td, int timesteps) {\n",
        "  // Array of random starting positions of particles (N x (x,y,z))\n",
        "  double* particle_pos = new double[N*3];\n",
        "  double* d_particle_pos;\n",
        "  // Array of random velocities of particles\n",
        "  double* particle_vel = new double[N*3];\n",
        "  double* d_particle_vel;\n",
        "  // Array of random masses of particles\n",
        "  double* particle_mass = new double[N];\n",
        "  double* d_particle_mass;\n",
        "  // Array of random masses of particles\n",
        "  double* particle_acc;\n",
        "  double* d_particle_acc;\n",
        "  // Array of positions of particles over all timesteps\n",
        "  double* data = new double[N * 3 * timesteps + N];\n",
        "  double* d_data;\n",
        "\n",
        "  // Allocate memory\n",
        "  particle_acc = (double*)malloc((N*3)* sizeof(double));\n",
        "  particle_pos = (double*)malloc((N*3)* sizeof(double));\n",
        "  particle_vel = (double*)malloc((N*3)* sizeof(double));\n",
        "  particle_mass = (double*)malloc(N * sizeof(double));\n",
        "  data = (double*)malloc((N * 3 * timesteps + N) * sizeof(double));\n",
        "\n",
        "  cudaMalloc(&d_particle_mass, N * sizeof(double));\n",
        "  cudaMalloc(&d_particle_pos, N * 3 * sizeof(double));\n",
        "  cudaMalloc(&d_particle_vel, N * 3 * sizeof(double));\n",
        "  cudaMalloc(&d_particle_acc, N * 3 * sizeof(double));\n",
        "  cudaMalloc(&d_data, (N * 3 * timesteps + N) * sizeof(double));\n",
        "\n",
        "  srand(811);\n",
        "\n",
        "  // Fill array of masses of particles\n",
        "  for(int i=0; i<N; i++){\n",
        "    particle_mass[i] = rand()/double(RAND_MAX)*1.f+0.f;\n",
        "    data[i] = particle_mass[i];\n",
        "  }\n",
        "\n",
        "  // Fill array of random starting velocities & positions for each particle\n",
        "  for(int i= 0; i<N; i++){\n",
        "    if (i % 4 == 1){\n",
        "      particle_pos[0 + 3 * i] = (double)rand()/(double)RAND_MAX*-2.f+0.f;\n",
        "      particle_pos[1 + 3 * i] = (double)rand()/(double)RAND_MAX*-2.f+0.f;\n",
        "      particle_pos[2 + 3 * i] = (double)rand()/(double)RAND_MAX*-2.f+2.f;\n",
        "\n",
        "      particle_vel[0 + 3 * i] = (double)rand()/(double)RAND_MAX*-1.f+0.f;\n",
        "      particle_vel[1 + 3 * i] = (double)rand()/(double)RAND_MAX*-1.f+0.f;\n",
        "      particle_vel[2 + 3 * i] = (double)rand()/(double)RAND_MAX*-1.f+1.f;\n",
        "    }\n",
        "    else if (i % 4 == 2){\n",
        "      particle_pos[0 + 3 * i] = (double)rand()/(double)RAND_MAX*-2.f+0.f;\n",
        "      particle_pos[1 + 3 * i] = (double)rand()/(double)RAND_MAX*-2.f+2.f;\n",
        "      particle_pos[2 + 3 * i] = (double)rand()/(double)RAND_MAX*-2.f+2.f;\n",
        "\n",
        "      particle_vel[0 + 3 * i] = (double)rand()/(double)RAND_MAX*-1.f+0.f;\n",
        "      particle_vel[1 + 3 * i] = (double)rand()/(double)RAND_MAX*-1.f+1.f;\n",
        "      particle_vel[2 + 3 * i] = (double)rand()/(double)RAND_MAX*-1.f+0.f;\n",
        "    }\n",
        "    else if (i % 4 == 3){\n",
        "      particle_pos[0 + 3 * i] = (double)rand()/(double)RAND_MAX*-2.f+2.f;\n",
        "      particle_pos[1 + 3 * i] = (double)rand()/(double)RAND_MAX*-2.f+2.f;\n",
        "      particle_pos[2 + 3 * i] = (double)rand()/(double)RAND_MAX*-2.f+2.f;\n",
        "\n",
        "      particle_vel[0 + 3 * i] = (double)rand()/(double)RAND_MAX*-1.f+1.f;\n",
        "      particle_vel[1 + 3 * i] = (double)rand()/(double)RAND_MAX*-1.f+1.f;\n",
        "      particle_vel[2 + 3 * i] = (double)rand()/(double)RAND_MAX*-1.f+1.f;\n",
        "    }\n",
        "    else{\n",
        "      particle_pos[0 + 3 * i] = (double)rand()/(double)RAND_MAX*-2.f+2.f;\n",
        "      particle_pos[1 + 3 * i] = (double)rand()/(double)RAND_MAX*-2.f+0.f;\n",
        "      particle_pos[2 + 3 * i] = (double)rand()/(double)RAND_MAX*-2.f+2.f;\n",
        "\n",
        "      particle_vel[0 + 3 * i] = (double)rand()/(double)RAND_MAX*-1.f+1.f;\n",
        "      particle_vel[1 + 3 * i] = (double)rand()/(double)RAND_MAX*-1.f+0.f;\n",
        "      particle_vel[2 + 3 * i] = (double)rand()/(double)RAND_MAX*-1.f+1.f;\n",
        "    }\n",
        "\n",
        "    // Save initial particle positions\n",
        "    data[(0 + 3 * i) + N] = particle_pos[0 + 3*i];\n",
        "    data[(1 + 3 * i) + N] = particle_pos[1 + 3*i];\n",
        "    data[(2 + 3 * i) + N] = particle_pos[2 + 3*i];\n",
        "  }\n",
        "\n",
        "  // Copy variables from host to device\n",
        "  cudaMemcpy(d_particle_mass, particle_mass, N * sizeof(double), cudaMemcpyHostToDevice);\n",
        "  cudaMemcpy(d_particle_pos, particle_pos, N * 3 * sizeof(double), cudaMemcpyHostToDevice);\n",
        "  cudaMemcpy(d_particle_vel, particle_vel, N * 3 * sizeof(double), cudaMemcpyHostToDevice);\n",
        "  cudaMemcpy(d_data, data, N * 3 * timesteps * sizeof(double), cudaMemcpyHostToDevice);\n",
        "\n",
        "  // Determine number of blocks based on N\n",
        "  int n_blocks;\n",
        "  if  (N % 1024 == 0){\n",
        "    n_blocks = N / 1024;\n",
        "  }\n",
        "  else{\n",
        "    n_blocks = 1 + floor(N / 1024);\n",
        "  }\n",
        "\n",
        "  // Deterine number of threads based on N\n",
        "  int n_threads;\n",
        "  if (N <= 1024){\n",
        "    n_threads = N;\n",
        "  }\n",
        "  else{\n",
        "    n_threads = 1024;\n",
        "  }\n",
        "\n",
        "  // Call GPU kernel to run simulation\n",
        "  generate_data_kernel <<< n_blocks, n_threads >>> (d_particle_pos, d_particle_vel, d_particle_mass, d_particle_acc, d_data,timesteps, td, G, N);\n",
        "\n",
        "  // Copy varibles device to host --> maybe just need\n",
        "  cudaMemcpy(data, d_data, (N * 3 * timesteps +N) * sizeof(double), cudaMemcpyDeviceToHost);\n",
        "\n",
        "  // Free memory\n",
        "  cudaFree(d_particle_pos);\n",
        "  cudaFree(d_particle_vel);\n",
        "  cudaFree(d_particle_acc);\n",
        "  cudaFree(d_particle_mass);\n",
        "  cudaFree(d_data);\n",
        "  free(particle_pos);\n",
        "  free(particle_vel);\n",
        "  free(particle_acc);\n",
        "  free(particle_mass);\n",
        "\n",
        "  // Return particles masses and all positions --> data\n",
        "  return data;\n",
        "}\n",
        "\n",
        "\n",
        "int main(int argc, char** argv) {\n",
        "  // Number of particles\n",
        "    //int N = 100;\n",
        "  int N = atoi(argv[1]);\n",
        "  // Newton's Gravitational Constant\n",
        "  double G = pow(6.67 * 10, -11);\n",
        "\n",
        "  // Start time of simulation\n",
        "  auto t_start = std::chrono::high_resolution_clock::now();\n",
        "\n",
        "  //  Set number of timesteps (number of interations for simulation)\n",
        "  double td = 0.01;\n",
        "  int timesteps = atoi(argv[2]);\n",
        "  //int timesteps = 50;\n",
        "\n",
        "  // Run N-body simulation\n",
        "  double* data = n_body(  N, G, td, timesteps);\n",
        "\n",
        "  // End time of simulation\n",
        "  auto t_end = std::chrono::high_resolution_clock::now();\n",
        "  // Runtime duration in seconds\n",
        "  auto total_time = std::chrono::duration_cast<std::chrono::microseconds>(t_end - t_start) * 0.000001;\n",
        "\n",
        "  // Write to output file\n",
        "  std::ofstream output_file;\n",
        "  output_file.open(\"output_cu.txt\");\n",
        "  output_file << \"Positions of \" << N << \" particles over \" << timesteps <<\" timesteps: \\n\";\n",
        "\n",
        "  // Write masses\n",
        "  for(int i=0; i < N; i++){\n",
        "    if (i == N-1) {\n",
        "      output_file << data[i] << \"\\n\";\n",
        "    } else {\n",
        "      output_file << data[i] << \", \";\n",
        "    }\n",
        "  }\n",
        "\n",
        "  // Write runtime duration\n",
        "  output_file << total_time.count() << \"\\n\";\n",
        "\n",
        "  // Write positions\n",
        "  int curr_step = 0;\n",
        "  for(int i=N; i < timesteps * N * 3 + N; i++){\n",
        "    if (curr_step == (N*3)-1) {\n",
        "      output_file << data[i] << \"\\n\";\n",
        "      curr_step = 0;\n",
        "    } else {\n",
        "      curr_step++;\n",
        "      output_file << data[i] << \", \";\n",
        "    }\n",
        "  }\n",
        "  output_file.close();\n",
        "\n",
        "  // Free data\n",
        "  free(data);\n",
        "\n",
        "  return 0;\n",
        "}\n"
      ]
    },
    {
      "cell_type": "code",
      "execution_count": 5,
      "metadata": {
        "id": "7iIt5mxqM8Ph"
      },
      "outputs": [],
      "source": [
        "! nvcc kernel.cu"
      ]
    },
    {
      "cell_type": "code",
      "execution_count": 6,
      "metadata": {
        "id": "EbJz7Wu_OD2w"
      },
      "outputs": [],
      "source": [
        "! nvcc kernel.cu -o test1"
      ]
    },
    {
      "cell_type": "code",
      "execution_count": null,
      "metadata": {
        "id": "qUJUmGDvNQsN"
      },
      "outputs": [],
      "source": [
        "! ./test1 100 40"
      ]
    },
    {
      "cell_type": "code",
      "execution_count": null,
      "metadata": {
        "colab": {
          "base_uri": "https://localhost:8080/"
        },
        "id": "dz2VSktAblIv",
        "outputId": "f071d7cc-a9d2-4ba4-ae1f-3fb6ce76757c"
      },
      "outputs": [
        {
          "name": "stdout",
          "output_type": "stream",
          "text": [
            "Writing nbody.py\n"
          ]
        }
      ],
      "source": [
        "%%writefile nbody.py\n",
        "import numpy as np\n",
        "import math\n",
        "import time\n",
        "import matplotlib.pyplot as plt\n",
        "import sys\n",
        "\n",
        "'''\n",
        "* This program generates the movement of particles using the N-body problem.\n",
        "* Produces an output file with particles' positions over a given number of timesteps.\n",
        "'''\n",
        "\n",
        "# Return matrix of accelertaions (x, y, z) for each particle\n",
        "# p: Maxtix of particle postions (x, y, z)\n",
        "# m: Array of particle masses\n",
        "# G: Newton's Gravitational Constant\n",
        "# N: Number of particles (bodies)\n",
        "def getAcc(p, m, G, N):\n",
        "    # new_acc is N x 3 matrix of updated accelerations (x, y, z for each particle)\n",
        "    new_acc = np.zeros((len(p), 3))\n",
        "\n",
        "    # get accleration for each particle\n",
        "    for i in range(N):\n",
        "        x = 0\n",
        "        y = 0\n",
        "        z = 0\n",
        "        # Calculate orce exerted on each particel THEN sum\n",
        "        for j in range(N):\n",
        "            if j != i:\n",
        "                # Get difference in position of neighboring particle\n",
        "                dx = p[j][0] - p[i][0]\n",
        "                dy = p[j][1] - p[i][1]\n",
        "                dz = p[j][2] - p[i][2]\n",
        "\n",
        "                # Calculate inverse with softening length (0.1) -- Part to account for particles close to eachother\n",
        "                inv = (dx**2 + dy**2 + dz**2 + 0.1**2)**(-1.5)\n",
        "\n",
        "                # Update acceleration (x, y, z)\n",
        "                x += m[j] * dx / inv\n",
        "                y += m[j] * dy / inv\n",
        "                z += m[j] * dy / inv\n",
        "\n",
        "        # Ajust with Newton's gravitational constant\n",
        "        x *= G\n",
        "        y *= G\n",
        "        z *= G\n",
        "\n",
        "        # Update with new acceleration\n",
        "        new_acc[i][0] = x\n",
        "        new_acc[i][1] = y\n",
        "        new_acc[i][2] = z\n",
        "\n",
        "    return new_acc\n",
        "\n",
        "# Return array with postions of particles for each timestep\n",
        "# data: array of maxtix of postions of particles for each timestep\n",
        "# p: particle postions (x, y, z)\n",
        "def format(data, p):\n",
        "    all_pos = []\n",
        "    for i in range(len(p)):\n",
        "        for j in range(3):\n",
        "            all_pos.append(p[i][j])\n",
        "    data.append(all_pos)\n",
        "\n",
        "    return data\n",
        "\n",
        "# Write data to output file\n",
        "# data: Maxtix of postions of particles for each timestep of the simulation\n",
        "# output_file: name of output file\n",
        "def generateOutput(data, output_file, runtime):\n",
        "    f = open(output_file, 'a')\n",
        "    f.write(str(runtime) + \"\\n\")\n",
        "    for i in range(len(data)):\n",
        "        f.write(str(data[i]) + \"\\n\")\n",
        "    f.close()\n",
        "\n",
        "\n",
        "def main():\n",
        "    ''' Generate N-body Simulation Data '''\n",
        "\n",
        "    # Number of particles\n",
        "    N = int(sys.argv[1])\n",
        "    # Newton's Gravitational Constant\n",
        "    G = 6.67 * 10**-11\n",
        "    # Random number generator seed\n",
        "    np.random.seed(811)\n",
        "    # Path for output file\n",
        "    output = \"output_py.txt\"\n",
        "\n",
        "    # Start timer -> for performance comparision\n",
        "    t_start = time.time()\n",
        "\n",
        "    # Create N x 3 matrix of random starting postion of particles (size N) -> each partile has x,y,z corrdinate\n",
        "    particle_pos = np.random.uniform(-2.5, 2.5, N *3)\n",
        "    particle_pos = np.reshape(particle_pos, (-1,3))\n",
        "\n",
        "    # Data that will be outputed\n",
        "    data = format([], particle_pos)\n",
        "\n",
        "    # Create N x 3 matrix of random starting velocities for each particle\n",
        "    particle_vel = np.random.randn(N, 3)\n",
        "\n",
        "    # Create N x 1 array of masses of particles\n",
        "    particle_mass = np.random.rand(N,1)\n",
        "\n",
        "    # Get starting accelerations of particles (N x 3 matrix)\n",
        "    particle_acc = getAcc(particle_pos, particle_mass, G, N)\n",
        "\n",
        "    # Set number of timesteps (number of interations for simulation)\n",
        "    td = 0.01 # Timestep duration\n",
        "    timesteps = int(sys.argv[2]) # Number of timesteps\n",
        "\n",
        "    f = open(output, 'w+')\n",
        "    f.write(\"Positions of \" + str(N) + \" particles over \" + str(timesteps) + \" timesteps: \\n\")\n",
        "    f.write(str(particle_mass.tolist()) + \"\\n\")\n",
        "    f.close()\n",
        "\n",
        "    # Loop for number of timesetps\n",
        "    for i in range(timesteps): # change 5 to timesteps\n",
        "        # Leapfrog integration\n",
        "        # 1) first half kick\n",
        "        particle_vel += particle_acc * (td / 2.0)\n",
        "\n",
        "        # 2) Drift --> Update positions of all particles\n",
        "        particle_pos += particle_vel * td\n",
        "\n",
        "        # 3) Get new accleration for each particle\n",
        "        particle_acc = getAcc(particle_pos, particle_mass, G, N)\n",
        "\n",
        "        # 4) Second half of kick --> update velocities\n",
        "        particle_vel += particle_acc * (td / 2.0)\n",
        "\n",
        "        # 6) Append to data that will be outputed\n",
        "        data = format(data, particle_pos)\n",
        "\n",
        "    # Get end time of simuation\n",
        "    t_end = time.time()\n",
        "\n",
        "    # Write to output file\n",
        "    generateOutput(data, output, t_end - t_start)\n",
        "\n",
        "main()"
      ]
    },
    {
      "cell_type": "code",
      "execution_count": null,
      "metadata": {
        "id": "8rndd1l7b7xn"
      },
      "outputs": [],
      "source": [
        "! python nbody.py 100 50"
      ]
    },
    {
      "cell_type": "code",
      "execution_count": null,
      "metadata": {
        "colab": {
          "base_uri": "https://localhost:8080/"
        },
        "id": "X88dqgWfefcc",
        "outputId": "7bf77209-4b7b-400d-9f57-8b475b782941"
      },
      "outputs": [
        {
          "name": "stdout",
          "output_type": "stream",
          "text": [
            "Writing simulator.py\n"
          ]
        }
      ],
      "source": [
        "%%writefile simulator.py\n",
        "import numpy as np\n",
        "import matplotlib\n",
        "import matplotlib.pyplot as plt\n",
        "import sys\n",
        "\n",
        "'''\n",
        "* This program visulizes the N-body simulation from a dataset\n",
        "'''\n",
        "\n",
        "def main():\n",
        "    # Path for output file\n",
        "    f = open(sys.argv[1], 'r')\n",
        "    content = f.readlines()\n",
        "\n",
        "    # Recreate N x 1 array of particle masses\n",
        "    masses = content[1].replace(\"[\", \"\").replace(\"]\", \"\").replace(\",\", \"\").split()\n",
        "    particle_mass = np.array(masses).astype(float)\n",
        "\n",
        "    # Visulization setup\n",
        "    grid = plt.GridSpec(1, 1, wspace=0.0, hspace=0.0)\n",
        "    ax1 = plt.subplot(grid[0:2,0])\n",
        "    ax1.set_facecolor(\"blue\")\n",
        "\n",
        "    # Parse file to create N x 3 matrix of current particle positions THEN plot\n",
        "    for line in content[3:]:\n",
        "        # Get particle positions\n",
        "        particle_pos = np.array(line.replace(\"[\", \"\").replace(\"]\", \"\").replace(\",\", \"\").split()).astype(float)\n",
        "        N = int(len(particle_pos) / 3) # each particle has (x, y, z)\n",
        "        particle_pos = particle_pos.reshape(N, 3)\n",
        "\n",
        "        # Plot\n",
        "        plt.sca(ax1)\n",
        "        plt.cla()\n",
        "        plt.scatter(particle_pos[:, 0], particle_pos[:, 1], s=100*particle_mass, color = 'lime', edgecolor='purple')\n",
        "        ax1.set(xlim=(-3, 3), ylim=(-3, 3))\n",
        "        ax1.set_aspect('equal', 'box')\n",
        "        plt.title(label= \"N-Body Simulation\", fontsize=20, color='black')\n",
        "        plt.pause(0.001)\n",
        "\n",
        "    f.close()\n",
        "\n",
        "main()"
      ]
    },
    {
      "cell_type": "code",
      "execution_count": null,
      "metadata": {
        "colab": {
          "base_uri": "https://localhost:8080/"
        },
        "id": "6tzZSfKKevOm",
        "outputId": "2a190217-0e4f-4ec2-c50f-59382311d507"
      },
      "outputs": [
        {
          "name": "stdout",
          "output_type": "stream",
          "text": [
            "Figure(640x480)\n",
            "Traceback (most recent call last):\n",
            "  File \"simulator.py\", line 42, in <module>\n",
            "    main()\n",
            "  File \"simulator.py\", line 32, in main\n",
            "    plt.sca(ax1)\n",
            "  File \"/usr/local/lib/python3.8/dist-packages/matplotlib/pyplot.py\", line 858, in sca\n",
            "    raise ValueError(\"Axes instance argument was not found in a figure\")\n",
            "ValueError: Axes instance argument was not found in a figure\n"
          ]
        }
      ],
      "source": [
        "! python simulator.py output_py.txt"
      ]
    },
    {
      "cell_type": "code",
      "execution_count": null,
      "metadata": {
        "colab": {
          "base_uri": "https://localhost:8080/"
        },
        "id": "IMMe5sFTfHjK",
        "outputId": "b8c656bb-e5f7-42fd-e28d-abd344b2ab85"
      },
      "outputs": [
        {
          "name": "stdout",
          "output_type": "stream",
          "text": [
            "Figure(640x480)\n",
            "Traceback (most recent call last):\n",
            "  File \"simulator.py\", line 42, in <module>\n",
            "    main()\n",
            "  File \"simulator.py\", line 32, in main\n",
            "    plt.sca(ax1)\n",
            "  File \"/usr/local/lib/python3.8/dist-packages/matplotlib/pyplot.py\", line 858, in sca\n",
            "    raise ValueError(\"Axes instance argument was not found in a figure\")\n",
            "ValueError: Axes instance argument was not found in a figure\n"
          ]
        }
      ],
      "source": [
        "! python simulator.py output_cu.txt"
      ]
    },
    {
      "cell_type": "code",
      "execution_count": null,
      "metadata": {
        "colab": {
          "base_uri": "https://localhost:8080/"
        },
        "id": "9yCun3YZ57FW",
        "outputId": "cbf3212b-2ec3-470d-99a0-2d1d93e0d8b3"
      },
      "outputs": [
        {
          "name": "stdout",
          "output_type": "stream",
          "text": [
            "Writing evaluate.py\n"
          ]
        }
      ],
      "source": [
        "%%writefile evaluate.py\n",
        "import sys\n",
        "import os\n",
        "import matplotlib.pyplot as plt\n",
        "\n",
        "'''\n",
        "* This program generates a graph comparing runtime of the serial and parallel\n",
        "implemetations of the N-body simulation.\n",
        "* N increases in powers of 2\n",
        "* Number of timsteps is constant (150).\n",
        "'''\n",
        "\n",
        "def runSim(N, iterations):\n",
        "    py_runtimes = []\n",
        "    cu_runtimes = []\n",
        "    n_vals = []\n",
        "    for i in range(iterations):\n",
        "        n_vals.append(N)\n",
        "        print(\"Running evaluation with N = \" + str(N))\n",
        "\n",
        "        # Get serial nbody runtime\n",
        "        os.system(\"python3 nbody.py \" + str(N) + \" 150\")\n",
        "        f_py = open(\"../data/output_py.txt\", 'r')\n",
        "        content_py = f_py.readlines()\n",
        "        py_runtimes.append(float(content_py[2]))\n",
        "        f_py.close()\n",
        "\n",
        "        # Get parallel nbody runtime\n",
        "        os.chdir(\"../build\")\n",
        "        os.system(\"./nbody \" + str(N) + \" 150\")\n",
        "        os.chdir(\"../python_code\")\n",
        "        f_cu = open(\"../data/output_cu.txt\", 'r')\n",
        "        content_cu = f_cu.readlines()\n",
        "        cu_runtimes.append(float(content_cu[2]))\n",
        "        f_cu.close()\n",
        "\n",
        "        # Increment number of N (powers of 2)\n",
        "        N *= 2\n",
        "\n",
        "    return py_runtimes, cu_runtimes, n_vals\n",
        "\n",
        "def graph(py, cu, n_vals):\n",
        "    plt.xscale(\"log\")\n",
        "    plt.title(label=\"Runtime Comparision\", fontsize=20, color='black')\n",
        "    plt.plot(n_vals, py, label=\"Serial Implementation\")\n",
        "    plt.plot(n_vals, cu, label=\"Parallel Implementation\")\n",
        "    plt.xlabel('Number of Particles (log scale)')\n",
        "    plt.ylabel('Runtime (sec)')\n",
        "    plt.legend()\n",
        "    plt.savefig(\"../figures/Evaluate_\" + str(len(n_vals)) + \"_iter.png\")\n",
        "\n",
        "def main():\n",
        "    ''' Run Evaluation of Serial vs Parallel Implementaitons '''\n",
        "\n",
        "    iterations = int(sys.argv[1])\n",
        "    py, cu, n_vals= runSim(2, iterations)\n",
        "    graph(py, cu, n_vals)\n",
        "\n",
        "main()"
      ]
    },
    {
      "cell_type": "code",
      "execution_count": null,
      "metadata": {
        "id": "7WYcvcmk6Fgi"
      },
      "outputs": [],
      "source": []
    }
  ],
  "metadata": {
    "accelerator": "GPU",
    "colab": {
      "gpuType": "T4",
      "provenance": []
    },
    "kernelspec": {
      "display_name": "Python 3",
      "name": "python3"
    },
    "language_info": {
      "name": "python"
    }
  },
  "nbformat": 4,
  "nbformat_minor": 0
}
